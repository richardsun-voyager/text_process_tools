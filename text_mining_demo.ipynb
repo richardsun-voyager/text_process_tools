{
 "cells": [
  {
   "cell_type": "markdown",
   "metadata": {},
   "source": [
    "Text data usually consists of a series of unstructured symbols like words, punctuation, digits all of which combine into strings with varied lengths. It is complex but also necessary to handle text data ahead of NLP tasks such as feature extraction, classification and etc. In order to facilitate text processing, I wrote four tools to handle text data(English):\n",
    "- text_preprocess.py : Remove punctuation and digits, lemmatize words and return clean text strings\n",
    "- text_vectorizer.py : Simply clean the texts, vectorize them using tools from scikit-learn\n",
    "- text_hier_split: Split texts into hierarchical structure, for example, a text can be divided into several sentences, and each sentence can be devided into tokens like words and punctuation\n",
    "- token_idx_map: Build a vacabulary and a dictionary for texts of hierarchical-structure, map each word into an unique ID for latter usage like deep learning applications"
   ]
  },
  {
   "cell_type": "markdown",
   "metadata": {},
   "source": [
    "In this demo, we take 20newsgroup data as example to do text cleaning and subsequent tasks."
   ]
  },
  {
   "cell_type": "code",
   "execution_count": 1,
   "metadata": {},
   "outputs": [],
   "source": [
    "import numpy as np\n",
    "import nltk\n",
    "import string\n",
    "import numpy as np\n",
    "from nltk.corpus import movie_reviews"
   ]
  },
  {
   "cell_type": "code",
   "execution_count": 2,
   "metadata": {},
   "outputs": [],
   "source": [
    "#Fetch the news texts\n",
    "from sklearn.datasets import fetch_20newsgroups\n",
    "newsgroups_train = fetch_20newsgroups(subset='train', \n",
    "                                  shuffle=True, random_state=11)\n",
    "newsgroups_test = fetch_20newsgroups(subset='test', \n",
    "                                  shuffle=True, random_state=11)"
   ]
  },
  {
   "cell_type": "code",
   "execution_count": 17,
   "metadata": {},
   "outputs": [
    {
     "name": "stdout",
     "output_type": "stream",
     "text": [
      "Number of training texts: 11314\n",
      "Number of testing texts: 7532\n"
     ]
    }
   ],
   "source": [
    "print('Number of training texts:', len(newsgroups_train.data))\n",
    "print('Number of testing texts:', len(newsgroups_test.data))"
   ]
  },
  {
   "cell_type": "markdown",
   "metadata": {},
   "source": [
    "Let's take a look at the news. It seems quite messy, that's why we need preprocessing."
   ]
  },
  {
   "cell_type": "code",
   "execution_count": 8,
   "metadata": {},
   "outputs": [
    {
     "name": "stdout",
     "output_type": "stream",
     "text": [
      "From: bear@kestrel.fsl.noaa.gov (Bear Giles)\n",
      "Subject: Re: Fifth Amendment and Passwords\n",
      "Organization: Forecast Systems Labs, NOAA, Boulder, CO USA\n",
      "Lines: 37\n",
      "\n",
      "In article <1993Apr15.160415.8559@magnus.acs.ohio-state.edu> ashall@magnus.acs.ohio-state.edu (Andrew S Hall) writes:\n",
      ">I am postive someone will correct me if I am wrong, but doesn't the Fifth\n",
      ">also cover not being forced to do actions that are self-incriminating?\n",
      ">e.g. The police couldn't demand that you silently take them to where the\n",
      ">body is buried or where the money is hidden.\n",
      "\n",
      "But they can make you piss in a jar, and possibly provide DNA, semen,\n",
      "and hair samples or to undergo tests for gunpowder residues on your hand.\n",
      "\n",
      "(BTW, that was why the chemical engineer arrested in the WTC explosion\n",
      "thrust his hands into a toilet filled with urine as the cops were breaking\n",
      "down the door -- the nitrogen in the urine would mask any residue from\n",
      "explosives.  I found it interesting the news reported his acts, but not\n",
      "his reasons).\n",
      "\n",
      "Somewhere, perhaps a privacy group, they discussed the legal ramifications\n",
      "of using a password like\n",
      "\n",
      "  I shot Jimmy Hoffa and his body is in a storage locker in Camden\n",
      "\n",
      "a while back.  The impression I got was that real judges would dismiss\n",
      "arguments that this password is self-incrimination as first-year law\n",
      "school sophistry -- the fact that you use a statement for a password has\n",
      "no bearing on the veracity of that phrase.\n",
      "\n",
      "You are not being asked to incrimidate yourself (e.g., \"where did you\n",
      "bury the body?\"); you are being asked to provide information necessary\n",
      "to execute a legal search warrant.  Refusing to provide the password is\n",
      "akin to refusing to provide a key to a storage locker... except that they\n",
      "could always _force_ their way into the locker.\n",
      "\n",
      "Of course, that doesn't mean you have to help them _understand_ what\n",
      "they find, or point out things they overlooked in their search!\n",
      "\n",
      "-- \n",
      "Bear Giles\n",
      "bear@fsl.noaa.gov\n",
      "\n"
     ]
    }
   ],
   "source": [
    "print(newsgroups_train.data[2])"
   ]
  },
  {
   "cell_type": "markdown",
   "metadata": {},
   "source": [
    "## Clean texts and Lemmatize words"
   ]
  },
  {
   "cell_type": "code",
   "execution_count": 3,
   "metadata": {},
   "outputs": [
    {
     "name": "stdout",
     "output_type": "stream",
     "text": [
      "Start to process....\n",
      "Processing Finished! Timing:  25.959\n"
     ]
    }
   ],
   "source": [
    "from text_preprocess import text_clean\n",
    "texts = newsgroups_train.data\n",
    "tp = text_clean(texts)\n",
    "processed_texts = tp.proceed()"
   ]
  },
  {
   "cell_type": "code",
   "execution_count": 5,
   "metadata": {},
   "outputs": [
    {
     "name": "stdout",
     "output_type": "stream",
     "text": [
      "from bear kestrel fsl noaa gov bear giles subject re fifth amendment and password organization forecast system lab noaa boulder co usa line in article apr magnus ac ohio state edu ashall magnus ac ohio state edu andrew s hall writes i am postive someone will correct me if i am wrong but doesn t the fifth also cover not being forced to do action that are self incriminating e g the police couldn t demand that you silently take them to where the body is buried or where the money is hidden but they can make you piss in a jar and possibly provide dna semen and hair sample or to undergo test for gunpowder residue on your hand btw that wa why the chemical engineer arrested in the wtc explosion thrust his hand into a toilet filled with urine a the cop were breaking down the door the nitrogen in the urine would mask any residue from explosive i found it interesting the news reported his act but not his reason somewhere perhaps a privacy group they discussed the legal ramification of using a password like i shot jimmy hoffa and his body is in a storage locker in camden a while back the impression i got wa that real judge would dismiss argument that this password is self incrimination a first year law school sophistry the fact that you use a statement for a password ha no bearing on the veracity of that phrase you are not being asked to incrimidate yourself e g where did you bury the body you are being asked to provide information necessary to execute a legal search warrant refusing to provide the password is akin to refusing to provide a key to a storage locker except that they could always force their way into the locker of course that doesn t mean you have to help them understand what they find or point out thing they overlooked in their search bear giles bear fsl noaa gov\n"
     ]
    }
   ],
   "source": [
    "print(processed_texts[2])"
   ]
  },
  {
   "cell_type": "markdown",
   "metadata": {},
   "source": [
    "Now everything other than words are gone, and words of plural forms like 'lines' have been transformed into original form 'line', but do be cautious, sometimes the symbols like punctuation can have some impact in terms of semantics, for example, in sentiment analysis, symbols like '?', '!' are also meaningful."
   ]
  },
  {
   "cell_type": "markdown",
   "metadata": {},
   "source": [
    "## Vectorize Text Data\n",
    "\n",
    "In a classical machine learning task, we need to transform texts into vectors of fixed length as the input of subsequent algorithms. There are many methods to vectorize texts, for example, we can build a vocabulary, each word stands for a feature, connsequently it is convenient represent a text as a vector of frequences of words in the vocabulary. Alternatively, we can use TfIdf values to replace simple frequences in the vector."
   ]
  },
  {
   "cell_type": "code",
   "execution_count": 6,
   "metadata": {},
   "outputs": [],
   "source": [
    "from text_vectorizer import text_vectorizer\n",
    "from sklearn.feature_extraction.text import CountVectorizer\n",
    "tv = text_vectorizer(texts, vectorizer=CountVectorizer())\n",
    "vecs = tv.proceed()"
   ]
  },
  {
   "cell_type": "code",
   "execution_count": 15,
   "metadata": {},
   "outputs": [
    {
     "data": {
      "text/plain": [
       "(11314, 82810)"
      ]
     },
     "execution_count": 15,
     "metadata": {},
     "output_type": "execute_result"
    }
   ],
   "source": [
    "vecs.shape"
   ]
  },
  {
   "cell_type": "markdown",
   "metadata": {},
   "source": [
    "Each text is represented as a vector with 82910 features, below are frequences for each word that do appear in the text."
   ]
  },
  {
   "cell_type": "code",
   "execution_count": 35,
   "metadata": {},
   "outputs": [
    {
     "name": "stdout",
     "output_type": "stream",
     "text": [
      "  (0, 2556)\t1\n",
      "  (0, 32967)\t1\n",
      "  (0, 75210)\t1\n",
      "  (0, 42322)\t1\n",
      "  (0, 33339)\t1\n",
      "  (0, 75844)\t2\n",
      "  (0, 58932)\t1\n",
      "  (0, 39737)\t2\n",
      "  (0, 22607)\t2\n",
      "  (0, 80309)\t2\n",
      "  (0, 71616)\t1\n",
      "  (0, 19936)\t3\n",
      "  (0, 45221)\t3\n",
      "  (0, 21166)\t1\n",
      "  (0, 31029)\t1\n",
      "  (0, 54972)\t1\n",
      "  (0, 49041)\t1\n",
      "  (0, 40646)\t1\n",
      "  (0, 34169)\t2\n",
      "  (0, 70699)\t1\n",
      "  (0, 51173)\t1\n",
      "  (0, 29761)\t2\n",
      "  (0, 68298)\t1\n",
      "  (0, 63505)\t1\n",
      "  (0, 21555)\t1\n",
      "  (0, 44002)\t1\n",
      "  (0, 19979)\t2\n",
      "  (0, 19978)\t2\n",
      "  (0, 25354)\t2\n"
     ]
    }
   ],
   "source": [
    "print(vecs[0])"
   ]
  },
  {
   "cell_type": "markdown",
   "metadata": {},
   "source": [
    "## Split Text into Hiararchical Structure\n",
    "\n",
    "Texts vary much, however in terms of structure, we can view that an article consists of paragraphs, a paragraph consists of sentences, and a sentence consists of words. To simplify, we can also represent a text as a sequence of sentences, and each sentences as a sequence of words."
   ]
  },
  {
   "cell_type": "code",
   "execution_count": 37,
   "metadata": {},
   "outputs": [
    {
     "name": "stdout",
     "output_type": "stream",
     "text": [
      "[['from', ':', 'email', '(', ')', 'subject', ':', 'help', 'organization', ':', 'the', 'internet', 'line', ':', 'nntp', 'posting', 'host', ':', 'enterpoop', '.', 'mit', '.', 'edu', 'to', ':', 'email', 'received', 'from', 'eei', '.', 'eeiihy', '.'], ['vax', '.', 'xpert', '..', 'expo', '.', 'lcs', '.', 'mit', '.', 'edu', '..', 'inet', ':', 'mail', 'user', 'in', 'vax', 'and', 'internet', 'help']]\n"
     ]
    }
   ],
   "source": [
    "from text_hier_split import text2sents, sent2words\n",
    "ts = text2sents(texts)\n",
    "sents = ts.proceed()\n",
    "print(sents[0])"
   ]
  },
  {
   "cell_type": "markdown",
   "metadata": {},
   "source": [
    "## Map Text into Sequences of IDs\n",
    "In many machine learning tasks, in order to facilitate the operations, we need to convert word symbols to IDs."
   ]
  },
  {
   "cell_type": "code",
   "execution_count": 39,
   "metadata": {},
   "outputs": [],
   "source": [
    "from token_idx_map import token2idx\n",
    "ti = token2idx(sents[:5])\n",
    "sent_idx = ti.proceed()"
   ]
  },
  {
   "cell_type": "code",
   "execution_count": 40,
   "metadata": {},
   "outputs": [
    {
     "data": {
      "text/plain": [
       "[[29,\n",
       "  9,\n",
       "  16,\n",
       "  13,\n",
       "  15,\n",
       "  56,\n",
       "  9,\n",
       "  102,\n",
       "  60,\n",
       "  9,\n",
       "  1,\n",
       "  216,\n",
       "  72,\n",
       "  9,\n",
       "  266,\n",
       "  227,\n",
       "  274,\n",
       "  9,\n",
       "  478,\n",
       "  0,\n",
       "  204,\n",
       "  0,\n",
       "  271,\n",
       "  4,\n",
       "  9,\n",
       "  16,\n",
       "  477,\n",
       "  29,\n",
       "  431,\n",
       "  0,\n",
       "  462,\n",
       "  0],\n",
       " [197,\n",
       "  0,\n",
       "  489,\n",
       "  254,\n",
       "  483,\n",
       "  0,\n",
       "  804,\n",
       "  0,\n",
       "  204,\n",
       "  0,\n",
       "  271,\n",
       "  254,\n",
       "  525,\n",
       "  9,\n",
       "  637,\n",
       "  706,\n",
       "  10,\n",
       "  197,\n",
       "  12,\n",
       "  216,\n",
       "  102]]"
      ]
     },
     "execution_count": 40,
     "metadata": {},
     "output_type": "execute_result"
    }
   ],
   "source": [
    "sent_idx[0]"
   ]
  },
  {
   "cell_type": "code",
   "execution_count": 42,
   "metadata": {},
   "outputs": [
    {
     "name": "stdout",
     "output_type": "stream",
     "text": [
      "0.06000000000000001\n",
      "-0.34166666666666673\n"
     ]
    }
   ],
   "source": [
    "from textblob import TextBlob\n",
    "\n",
    "text = '''\n",
    "The titular threat of The Blob has always struck me as the ultimate movie\n",
    "monster: an insatiably hungry, amoeba-like mass able to penetrate\n",
    "virtually any safeguard, capable of--as a doomed doctor chillingly\n",
    "describes it--\"assimilating flesh on contact.\n",
    "Snide comparisons to gelatin be damned, it's a concept with the most\n",
    "devastating of potential consequences, not unlike the grey goo scenario\n",
    "proposed by technological theorists fearful of\n",
    "artificial intelligence run rampant.\n",
    "'''\n",
    "\n",
    "blob = TextBlob(text)\n",
    "blob.tags           # [('The', 'DT'), ('titular', 'JJ'),\n",
    "                    #  ('threat', 'NN'), ('of', 'IN'), ...]\n",
    "\n",
    "blob.noun_phrases   # WordList(['titular threat', 'blob',\n",
    "                    #            'ultimate movie monster',\n",
    "                    #            'amoeba-like mass', ...])\n",
    "\n",
    "for sentence in blob.sentences:\n",
    "    print(sentence.sentiment.polarity)\n",
    "# 0.060\n",
    "# -0.341\n"
   ]
  },
  {
   "cell_type": "code",
   "execution_count": 48,
   "metadata": {},
   "outputs": [
    {
     "data": {
      "text/plain": [
       "WordList(['The', 'titular', 'threat'])"
      ]
     },
     "execution_count": 48,
     "metadata": {},
     "output_type": "execute_result"
    }
   ],
   "source": [
    "blob.sentences[0].words[:3]"
   ]
  },
  {
   "cell_type": "code",
   "execution_count": 44,
   "metadata": {},
   "outputs": [
    {
     "data": {
      "text/plain": [
       "WordList(['titular threat', 'blob', 'ultimate movie monster', 'amoeba-like mass', 'snide', 'potential consequences', 'grey goo scenario', 'technological theorists fearful', 'artificial intelligence run rampant'])"
      ]
     },
     "execution_count": 44,
     "metadata": {},
     "output_type": "execute_result"
    }
   ],
   "source": [
    "blob.noun_phrases"
   ]
  },
  {
   "cell_type": "code",
   "execution_count": 46,
   "metadata": {},
   "outputs": [
    {
     "data": {
      "text/plain": [
       "WordList(['The', 'titular', 'threat', 'of', 'The', 'Blob', 'has', 'always', 'struck', 'me', 'as', 'the', 'ultimate', 'movie', 'monster', 'an', 'insatiably', 'hungry', 'amoeba-like', 'mass', 'able', 'to', 'penetrate', 'virtually', 'any', 'safeguard', 'capable', 'of', 'as', 'a', 'doomed', 'doctor', 'chillingly', 'describes', 'it', 'assimilating', 'flesh', 'on', 'contact', 'Snide', 'comparisons', 'to', 'gelatin', 'be', 'damned', 'it', \"'s\", 'a', 'concept', 'with', 'the', 'most', 'devastating', 'of', 'potential', 'consequences', 'not', 'unlike', 'the', 'grey', 'goo', 'scenario', 'proposed', 'by', 'technological', 'theorists', 'fearful', 'of', 'artificial', 'intelligence', 'run', 'rampant'])"
      ]
     },
     "execution_count": 46,
     "metadata": {},
     "output_type": "execute_result"
    }
   ],
   "source": [
    "blob.words"
   ]
  },
  {
   "cell_type": "code",
   "execution_count": 53,
   "metadata": {},
   "outputs": [],
   "source": [
    "text = texts[1]"
   ]
  },
  {
   "cell_type": "code",
   "execution_count": 54,
   "metadata": {},
   "outputs": [
    {
     "data": {
      "text/plain": [
       "'From: chrism@cirrus.com (Chris Metcalfe)\\nSubject: Nazi Eugenic Theories Circulated by CPR => (unconventianal peace)\\nOrganization: Cirrus Logic Inc.\\nLines: 85\\n\\nNow we have strong evidence of where the CPR really stands.\\nUnbelievable and disgusting.  It only proves that we must\\nnever forget...\\n\\n\\n!!!!!!!!!!!!!!!!!!!!!!!!!!!!!!!!!!!!!!!!!!!!!!!!!!!!!!!!!!!!!!!!\\n\\nIn article <1483500348@igc.apc.org> cpr@igc.apc.org (Center for Policy Research) writes:\\n>\\n>From: Center for Policy Research <cpr>\\n>Subject: Unconventional peace proposal\\n>\\n>\\n>A unconventional proposal for peace in the Middle-East.\\n\\nNot so unconventional.  Eugenic solutions to the Jewish Problem\\nhave been suggested by Northern Europeans in the past.\\n\\n  Eugenics: a science that deals with the improvement (as by\\n  control of human mating) of hereditory qualities of race\\n  or breed.  -- Webster\\'s Ninth Collegiate Dictionary.\\n\\n>5.      The emergence of a considerable number of \\'mixed\\'\\n>marriages in Israel/Palestine, all of whom would have relatives on\\n>\\'both sides\\' of the divide, would make the conflict lose its\\n>ethnical and unsoluble core and strengthen the emergence of a\\n>truly civil society. The existence of a strong \\'mixed\\' stock of\\n>people would also help the integration of Israeli society into the\\n>Middle-East in a graceful manner.\\n\\nThis is nothing more than Feisal Husseini\\'s statement that the\\nZionist entity must be disolved by forcing it to \"engage\" the\\nsurrounding \"normal\" Arab society.\\n\\n\"a strong mixed stock\", \"integration of Israeli society into\\nthe Middle East in a graceful manner,\" these are the phrases\\nof Nazi racial engineering pure and simple.  As if Israeli\\nsociety has no right to exist per se!\\n\\n>3.      Fundamentalist Jews would certainly object to the use of\\n>financial incentives to encourage \\'mixed marriages\\'. From their\\n>point of view, the continued existence of a specific Jewish People\\n>overrides any other consideration, be it human love, peace of\\n>human rights.  The President of the World Jewish Congress, Edgar\\n>Bronfman, reflected this view a few years ago in an interview he\\n>gave to Der Spiegel, a German magazine. He called the increasing\\n>assimilation of Jews in the world a <calamity>, comparable in its\\n>effects only with the Holocaust. This objection has no merit\\n>either because it does not fulfill the first two assumptions (see\\n>above)\\n\\n\"the continued existance of a specific Jewish People overrides\\nany other consideration, be it human love, peace of human\\nrights.\"  Disolve the Jewish People and protect human values\\nsuch as love and peace; yes ve have heard this before Her Himmler.\\nNotice how the source of the problem seems to be accruing to\\nthe Jews in this analysis.  Ya, Der Spiegal ist a gut sourcen...\\n\\n>5.      It may objected that such a Fund would need great sums to\\n>bring about substantial demographic changes. This objection has\\n>merits. However, it must be remembered that huge sums, more than\\n>$3 billion, are expended each year by the United States government\\n>and by U.S. organizations to maintain an elusive peace in the\\n>Middle-East through armaments. A mere fraction of these sums would\\n>suffice to launch the above proposal and create a more favorable\\n>climate towards the existence of \\'mixed\\' marriages in\\n>Israel/Palestine, thus encouraging the emergence of a\\n>non-segregated society in that worn-torn land.\\n\\nNice attempt to mix in a slam against U.S. aid to Israel.\\n\\n>I would be thankful for critical comments to the above proposal as\\n>well for any dissemination of this proposal for meaningful\\n>discussion and enrichment.\\n>\\n>Elias Davidsson Post Box 1760 121 Reykjavik, ICELAND\\n\\nCritical comment: you can take the Nazi flag and Holocaust photos\\noff of your bedroom wall, Elias; you\\'ll never succeed.\\n\\n-- Chris Metcalfe\\n\\n!!!!!!!!!!!!!!!!!!!!!!!!!!!!!!!!!!!!!!!!!!!!!!!!!!!!!!!!!!!!!!!!!!!!\\n\\nNow we\\'ll find out where you fans really stand...\\n'"
      ]
     },
     "execution_count": 54,
     "metadata": {},
     "output_type": "execute_result"
    }
   ],
   "source": [
    "text"
   ]
  },
  {
   "cell_type": "code",
   "execution_count": 55,
   "metadata": {},
   "outputs": [],
   "source": [
    "blob = TextBlob(text)"
   ]
  },
  {
   "cell_type": "code",
   "execution_count": 59,
   "metadata": {},
   "outputs": [
    {
     "data": {
      "text/plain": [
       "Sentence(\"From: chrism@cirrus.com (Chris Metcalfe)\n",
       "Subject: Nazi Eugenic Theories Circulated by CPR => (unconventianal peace)\n",
       "Organization: Cirrus Logic Inc.\n",
       "Lines: 85\n",
       "\n",
       "Now we have strong evidence of where the CPR really stands.\")"
      ]
     },
     "execution_count": 59,
     "metadata": {},
     "output_type": "execute_result"
    }
   ],
   "source": [
    "blob.sentences[0]"
   ]
  },
  {
   "cell_type": "code",
   "execution_count": 66,
   "metadata": {},
   "outputs": [
    {
     "data": {
      "text/plain": [
       "Sentence(\"In article <1483500348@igc.apc.org> cpr@igc.apc.org (Center for Policy Research) writes:\n",
       ">\n",
       ">From: Center for Policy Research <cpr>\n",
       ">Subject: Unconventional peace proposal\n",
       ">\n",
       ">\n",
       ">A unconventional proposal for peace in the Middle-East.\")"
      ]
     },
     "execution_count": 66,
     "metadata": {},
     "output_type": "execute_result"
    }
   ],
   "source": [
    "blob.sentences[4]"
   ]
  },
  {
   "cell_type": "code",
   "execution_count": 67,
   "metadata": {},
   "outputs": [],
   "source": [
    "blobs = list(map(TextBlob, texts))"
   ]
  },
  {
   "cell_type": "code",
   "execution_count": 73,
   "metadata": {},
   "outputs": [
    {
     "data": {
      "text/plain": [
       "'From'"
      ]
     },
     "execution_count": 73,
     "metadata": {},
     "output_type": "execute_result"
    }
   ],
   "source": [
    "blobs[1].sentences[0].words[0]"
   ]
  },
  {
   "cell_type": "code",
   "execution_count": 79,
   "metadata": {},
   "outputs": [
    {
     "data": {
      "text/plain": [
       "WordList(['From', 'chrism', 'cirrus.com', 'Chris', 'Metcalfe', 'Subject', 'Nazi', 'Eugenic', 'Theories', 'Circulated', 'by', 'CPR', 'unconventianal', 'peace', 'Organization', 'Cirrus', 'Logic', 'Inc', 'Lines', '85', 'Now', 'we', 'have', 'strong', 'evidence', 'of', 'where', 'the', 'CPR', 'really', 'stands', 'Unbelievable', 'and', 'disgusting', 'It', 'only', 'proves', 'that', 'we', 'must', 'never', 'forget', 'In', 'article', '1483500348', 'igc.apc.org', 'cpr', 'igc.apc.org', 'Center', 'for', 'Policy', 'Research', 'writes', 'From', 'Center', 'for', 'Policy', 'Research', 'cpr', 'Subject', 'Unconventional', 'peace', 'proposal', 'A', 'unconventional', 'proposal', 'for', 'peace', 'in', 'the', 'Middle-East', 'Not', 'so', 'unconventional', 'Eugenic', 'solutions', 'to', 'the', 'Jewish', 'Problem', 'have', 'been', 'suggested', 'by', 'Northern', 'Europeans', 'in', 'the', 'past', 'Eugenics', 'a', 'science', 'that', 'deals', 'with', 'the', 'improvement', 'as', 'by', 'control', 'of', 'human', 'mating', 'of', 'hereditory', 'qualities', 'of', 'race', 'or', 'breed', 'Webster', \"'s\", 'Ninth', 'Collegiate', 'Dictionary', '5', 'The', 'emergence', 'of', 'a', 'considerable', 'number', 'of', \"'mixed'\", 'marriages', 'in', 'Israel/Palestine', 'all', 'of', 'whom', 'would', 'have', 'relatives', 'on', \"'both\", 'sides', 'of', 'the', 'divide', 'would', 'make', 'the', 'conflict', 'lose', 'its', 'ethnical', 'and', 'unsoluble', 'core', 'and', 'strengthen', 'the', 'emergence', 'of', 'a', 'truly', 'civil', 'society', 'The', 'existence', 'of', 'a', 'strong', \"'mixed\", 'stock', 'of', 'people', 'would', 'also', 'help', 'the', 'integration', 'of', 'Israeli', 'society', 'into', 'the', 'Middle-East', 'in', 'a', 'graceful', 'manner', 'This', 'is', 'nothing', 'more', 'than', 'Feisal', 'Husseini', \"'s\", 'statement', 'that', 'the', 'Zionist', 'entity', 'must', 'be', 'disolved', 'by', 'forcing', 'it', 'to', 'engage', 'the', 'surrounding', 'normal', 'Arab', 'society', 'a', 'strong', 'mixed', 'stock', 'integration', 'of', 'Israeli', 'society', 'into', 'the', 'Middle', 'East', 'in', 'a', 'graceful', 'manner', 'these', 'are', 'the', 'phrases', 'of', 'Nazi', 'racial', 'engineering', 'pure', 'and', 'simple', 'As', 'if', 'Israeli', 'society', 'has', 'no', 'right', 'to', 'exist', 'per', 'se', '3', 'Fundamentalist', 'Jews', 'would', 'certainly', 'object', 'to', 'the', 'use', 'of', 'financial', 'incentives', 'to', 'encourage', \"'mixed\", 'marriages', 'From', 'their', 'point', 'of', 'view', 'the', 'continued', 'existence', 'of', 'a', 'specific', 'Jewish', 'People', 'overrides', 'any', 'other', 'consideration', 'be', 'it', 'human', 'love', 'peace', 'of', 'human', 'rights', 'The', 'President', 'of', 'the', 'World', 'Jewish', 'Congress', 'Edgar', 'Bronfman', 'reflected', 'this', 'view', 'a', 'few', 'years', 'ago', 'in', 'an', 'interview', 'he', 'gave', 'to', 'Der', 'Spiegel', 'a', 'German', 'magazine', 'He', 'called', 'the', 'increasing', 'assimilation', 'of', 'Jews', 'in', 'the', 'world', 'a', 'calamity', 'comparable', 'in', 'its', 'effects', 'only', 'with', 'the', 'Holocaust', 'This', 'objection', 'has', 'no', 'merit', 'either', 'because', 'it', 'does', 'not', 'fulfill', 'the', 'first', 'two', 'assumptions', 'see', 'above', 'the', 'continued', 'existance', 'of', 'a', 'specific', 'Jewish', 'People', 'overrides', 'any', 'other', 'consideration', 'be', 'it', 'human', 'love', 'peace', 'of', 'human', 'rights', 'Disolve', 'the', 'Jewish', 'People', 'and', 'protect', 'human', 'values', 'such', 'as', 'love', 'and', 'peace', 'yes', 've', 'have', 'heard', 'this', 'before', 'Her', 'Himmler', 'Notice', 'how', 'the', 'source', 'of', 'the', 'problem', 'seems', 'to', 'be', 'accruing', 'to', 'the', 'Jews', 'in', 'this', 'analysis', 'Ya', 'Der', 'Spiegal', 'ist', 'a', 'gut', 'sourcen', '5', 'It', 'may', 'objected', 'that', 'such', 'a', 'Fund', 'would', 'need', 'great', 'sums', 'to', 'bring', 'about', 'substantial', 'demographic', 'changes', 'This', 'objection', 'has', 'merits', 'However', 'it', 'must', 'be', 'remembered', 'that', 'huge', 'sums', 'more', 'than', '3', 'billion', 'are', 'expended', 'each', 'year', 'by', 'the', 'United', 'States', 'government', 'and', 'by', 'U.S', 'organizations', 'to', 'maintain', 'an', 'elusive', 'peace', 'in', 'the', 'Middle-East', 'through', 'armaments', 'A', 'mere', 'fraction', 'of', 'these', 'sums', 'would', 'suffice', 'to', 'launch', 'the', 'above', 'proposal', 'and', 'create', 'a', 'more', 'favorable', 'climate', 'towards', 'the', 'existence', 'of', \"'mixed\", 'marriages', 'in', 'Israel/Palestine', 'thus', 'encouraging', 'the', 'emergence', 'of', 'a', 'non-segregated', 'society', 'in', 'that', 'worn-torn', 'land', 'Nice', 'attempt', 'to', 'mix', 'in', 'a', 'slam', 'against', 'U.S', 'aid', 'to', 'Israel', 'I', 'would', 'be', 'thankful', 'for', 'critical', 'comments', 'to', 'the', 'above', 'proposal', 'as', 'well', 'for', 'any', 'dissemination', 'of', 'this', 'proposal', 'for', 'meaningful', 'discussion', 'and', 'enrichment', 'Elias', 'Davidsson', 'Post', 'Box', '1760', '121', 'Reykjavik', 'ICELAND', 'Critical', 'comment', 'you', 'can', 'take', 'the', 'Nazi', 'flag', 'and', 'Holocaust', 'photos', 'off', 'of', 'your', 'bedroom', 'wall', 'Elias', 'you', \"'ll\", 'never', 'succeed', 'Chris', 'Metcalfe', 'Now', 'we', \"'ll\", 'find', 'out', 'where', 'you', 'fans', 'really', 'stand'])"
      ]
     },
     "execution_count": 79,
     "metadata": {},
     "output_type": "execute_result"
    }
   ],
   "source": [
    "blobs[1].words"
   ]
  },
  {
   "cell_type": "code",
   "execution_count": 76,
   "metadata": {},
   "outputs": [],
   "source": [
    "from token_idx_map import token2idx\n",
    "ti = token2idx(blobs[:5])\n",
    "sent_idx = ti.proceed()"
   ]
  },
  {
   "cell_type": "code",
   "execution_count": null,
   "metadata": {},
   "outputs": [],
   "source": []
  }
 ],
 "metadata": {
  "kernelspec": {
   "display_name": "Python [default]",
   "language": "python",
   "name": "python3"
  },
  "language_info": {
   "codemirror_mode": {
    "name": "ipython",
    "version": 3
   },
   "file_extension": ".py",
   "mimetype": "text/x-python",
   "name": "python",
   "nbconvert_exporter": "python",
   "pygments_lexer": "ipython3",
   "version": "3.5.2"
  }
 },
 "nbformat": 4,
 "nbformat_minor": 2
}
